{
 "cells": [
  {
   "cell_type": "markdown",
   "metadata": {
    "colab_type": "text",
    "id": "view-in-github"
   },
   "source": [
    "<a href=\"https://colab.research.google.com/github/google/cluster-data/blob/master/clusterdata_analysis_colab.ipynb\" target=\"_parent\"><img src=\"https://colab.research.google.com/assets/colab-badge.svg\" alt=\"Open In Colab\"/></a>"
   ]
  },
  {
   "cell_type": "markdown",
   "metadata": {
    "colab_type": "text",
    "id": "-qcDkhOIjj8a"
   },
   "source": [
    "# Google and Alibaba trace analysis\n",
    "\n",
    "## Google Trace 2011:\n",
    "1. https://github.com/google/cluster-data\n",
    "2. https://github.com/google/cluster-data/blob/master/TraceVersion1.md\n",
    "3. Trace Blog: https://ai.googleblog.com/2010/01/google-cluster-data.html?m=1\n",
    "\n",
    "## Alibaba Trace 2017:\n",
    "1. https://github.com/alibaba/clusterdata/blob/master/cluster-trace-v2017/trace_201708.md\n",
    "2. https://github.com/alibaba/clusterdata/blob/master/cluster-trace-v2017/README2017.md\n",
    "\n",
    "## HPC Production Trace - Zenodo\n",
    "1. https://zenodo.org/record/3872169#.ZDOhXi-B1QJ\n",
    "2. https://dl.acm.org/doi/pdf/10.1145/3472883.3487007"
   ]
  },
  {
   "cell_type": "code",
   "execution_count": 2,
   "metadata": {},
   "outputs": [
    {
     "name": "stdout",
     "output_type": "stream",
     "text": [
      "Number of rows:  3535030\n"
     ]
    }
   ],
   "source": [
    "import pandas as pd\n",
    "import numpy as np\n",
    "import csv\n",
    "\n",
    "with open(\"./google-cluster-data-1.csv\", 'r') as file:\n",
    "    csvreader = csv.reader(file)\n",
    "    count = 0\n",
    "    for row in csvreader:\n",
    "        count += 1\n",
    "print(\"Number of rows: \", count)"
   ]
  },
  {
   "cell_type": "code",
   "execution_count": 23,
   "metadata": {},
   "outputs": [
    {
     "name": "stdout",
     "output_type": "stream",
     "text": [
      "<bound method NDFrame.head of            Time    ParentID      TaskID  JobType  NrmlTaskCores  NrmlTaskMem  \\\n",
      "0         90000   757745334  1488529826        0       0.000000     0.031130   \n",
      "1         90000   975992247  1488529821        0       0.000000     0.000000   \n",
      "2         90000  1468458091  1488529832        1       0.021875     0.002353   \n",
      "3         90000  1460281235  1488529840        0       0.000000     0.000000   \n",
      "4         90000  1164728954  1488529835        0       0.003125     0.001638   \n",
      "...         ...         ...         ...      ...            ...          ...   \n",
      "3535024  112500  1487094655  1487103476        0       0.000000     0.000879   \n",
      "3535025  112500  1461321601  1465612301        0       0.000000     0.000879   \n",
      "3535026  112500  1487094655  1487097223        0       0.000000     0.000879   \n",
      "3535027  112500   618817162  1485932004        1       0.000000     0.000879   \n",
      "3535028  112500  1213243701  1349431592        0       0.000000     0.000879   \n",
      "\n",
      "         Unnamed: 6  \n",
      "0               NaN  \n",
      "1               NaN  \n",
      "2               NaN  \n",
      "3               NaN  \n",
      "4               NaN  \n",
      "...             ...  \n",
      "3535024         NaN  \n",
      "3535025         NaN  \n",
      "3535026         NaN  \n",
      "3535027         NaN  \n",
      "3535028         NaN  \n",
      "\n",
      "[3535029 rows x 7 columns]>\n",
      "Index(['Time', 'ParentID', 'TaskID', 'JobType', 'NrmlTaskCores', 'NrmlTaskMem',\n",
      "       'Unnamed: 6'],\n",
      "      dtype='object')\n"
     ]
    }
   ],
   "source": [
    "# read with delimilter, otherwise reads as one column\n",
    "df = pd.read_csv(\"./google-cluster-data-1.csv\", delimiter=\" \")\n",
    "print(df.head)\n",
    "print(df.columns)"
   ]
  },
  {
   "cell_type": "code",
   "execution_count": 47,
   "metadata": {},
   "outputs": [
    {
     "name": "stdout",
     "output_type": "stream",
     "text": [
      "    Time   ParentID      TaskID  JobType  NrmlTaskCores  NrmlTaskMem\n",
      "0  90000  757745334  1488529826        0            0.0      0.03113\n",
      "1  90000  975992247  1488529821        0            0.0      0.00000\n",
      "Number of columns: 7\n",
      "Time range: 90000 112500 22500\n",
      "Number of unique Task IDs: 176580\n"
     ]
    }
   ],
   "source": [
    "print(df.head(2).iloc[:, 0:6])\n",
    "print(\"Number of columns:\", len(df.columns))\n",
    "print(\"Time range:\", df['Time'].min(), df['Time'].max(), df['Time'].max() - df['Time'].min())\n",
    "print(\"Number of unique Task IDs:\", df['TaskID'].nunique())"
   ]
  },
  {
   "cell_type": "code",
   "execution_count": null,
   "metadata": {},
   "outputs": [],
   "source": [
    "dfnew = pd.DataFrame(columns = ['TaskID', 'RunTime'])\n",
    "for i in df['TaskID'].unique()[0:176580]:\n",
    "    #dfnew.append({'TaskID' : i, 'RunTime' : df[df['TaskID'] == i].shape[0]}, ignore_index = True)\n",
    "    #dfnew.concat(pd.concat([i, df[df['TaskID'] == i].shape[0]]), axis=1)\n",
    "    #print(i, df[df['TaskID'] == i].shape[0])\n",
    "    dfnew.loc[-1] = [i, df[df['TaskID'] == i].shape[0]*5]\n",
    "    dfnew.index = dfnew.index + 1\n",
    "    dfnew = dfnew.sort_index()\n",
    "print(dfnew.head)"
   ]
  },
  {
   "cell_type": "markdown",
   "metadata": {},
   "source": [
    ".apply\n"
   ]
  },
  {
   "cell_type": "code",
   "execution_count": 56,
   "metadata": {},
   "outputs": [
    {
     "data": {
      "text/plain": [
       "array([[<AxesSubplot:title={'center':'RunTime'}>]], dtype=object)"
      ]
     },
     "execution_count": 56,
     "metadata": {},
     "output_type": "execute_result"
    },
    {
     "data": {
      "image/png": "[encoded data removed]",
      "text/plain": [
       "<Figure size 640x480 with 1 Axes>"
      ]
     },
     "metadata": {},
     "output_type": "display_data"
    }
   ],
   "source": [
    "dfnew.hist(column='RunTime')"
   ]
  },
  {
   "cell_type": "markdown",
   "metadata": {
    "colab_type": "text",
    "id": "NFUPuLiajrC8"
   },
   "source": [
    "# Alibaba Traces\n",
    "\n"
   ]
  },
  {
   "cell_type": "code",
   "execution_count": 57,
   "metadata": {},
   "outputs": [
    {
     "name": "stdout",
     "output_type": "stream",
     "text": [
      "    6459   6524   3   4  15740  Terminated    50  0.007956928014909534\n",
      "0   6457   6533   3   5      1  Terminated  50.0              0.004395\n",
      "1   6036   6046   4   7    393     Waiting   NaN                   NaN\n",
      "2   6036   6046   4   6    452     Waiting   NaN                   NaN\n",
      "3  10719  11332  15  67   1705  Terminated  50.0              0.005736\n",
      "4  10718  11164  15  66    631  Terminated  50.0              0.016007\n",
      "5  10718  10916  15  65    300  Terminated  50.0              0.018658\n",
      "6  10718  12897  15  64   2003  Terminated  50.0              0.016007\n",
      "7  11792  11999  18  88    257  Terminated  50.0              0.013356\n",
      "8  11792  14331  18  82   1559  Terminated  50.0              0.016007\n",
      "9  11792  12112  18  91    321  Terminated  50.0              0.013356\n"
     ]
    }
   ],
   "source": [
    "alibaba = pd.read_csv(\"./alibaba-trace-2017/batch_task.csv\")\n",
    "print(alibaba.head(10))"
   ]
  },
  {
   "cell_type": "code",
   "execution_count": 62,
   "metadata": {},
   "outputs": [
    {
     "name": "stdout",
     "output_type": "stream",
     "text": [
      "   start_timestamp  end_timestamp  job_id  task_id  machineID      status  \\\n",
      "0            41562          41618   120.0    686.0      299.0  Terminated   \n",
      "1            41561          41619   120.0    686.0     1279.0  Terminated   \n",
      "2            41562          41617   120.0    686.0      828.0  Terminated   \n",
      "3            41561          41617   120.0    686.0       95.0  Terminated   \n",
      "4            41557          41610   120.0    686.0      545.0  Terminated   \n",
      "5            41557          41614   120.0    686.0      258.0  Terminated   \n",
      "6            41558          41614   120.0    686.0      495.0  Terminated   \n",
      "7            41560          41619   120.0    686.0      831.0  Terminated   \n",
      "8            41561          41616   120.0    686.0     1169.0  Terminated   \n",
      "9            41561          41616   120.0    686.0      678.0  Terminated   \n",
      "\n",
      "   seq_no  total_seq_no  real_cpu_max  real_cpu_avg  real_mem_max  \\\n",
      "0       1             1          1.50          0.29           NaN   \n",
      "1       1             1          0.89          0.28           NaN   \n",
      "2       1             1          0.94          0.29           NaN   \n",
      "3       1             1          1.00          0.31           NaN   \n",
      "4       1             1          1.37          0.29           NaN   \n",
      "5       1             1          1.18          0.27           NaN   \n",
      "6       1             1          1.00          0.27           NaN   \n",
      "7       1             1          0.84          0.37           NaN   \n",
      "8       1             1          0.89          0.32           NaN   \n",
      "9       1             1          0.96          0.30           NaN   \n",
      "\n",
      "   real_mem_avg  \n",
      "0           NaN  \n",
      "1           NaN  \n",
      "2           NaN  \n",
      "3           NaN  \n",
      "4           NaN  \n",
      "5           NaN  \n",
      "6           NaN  \n",
      "7           NaN  \n",
      "8           NaN  \n",
      "9           NaN  \n",
      "Index(['start_timestamp', 'end_timestamp', 'job_id', 'task_id', 'machineID',\n",
      "       'status', 'seq_no', 'total_seq_no', 'real_cpu_max', 'real_cpu_avg',\n",
      "       'real_mem_max', 'real_mem_avg'],\n",
      "      dtype='object')\n"
     ]
    }
   ],
   "source": [
    "colNames = ['start_timestamp', 'end_timestamp', 'job_id', 'task_id', 'machineID', 'status', 'seq_no', 'total_seq_no', 'real_cpu_max', 'real_cpu_avg', 'real_mem_max', 'real_mem_avg']\n",
    "alibaba = pd.read_csv(\"./alibaba-trace-2017/batch_instance.csv\", names=colNames, header=None)\n",
    "print(alibaba.head(10))\n",
    "print(alibaba.columns)"
   ]
  },
  {
   "cell_type": "code",
   "execution_count": 70,
   "metadata": {},
   "outputs": [
    {
     "name": "stdout",
     "output_type": "stream",
     "text": [
      "Number of unique Job IDs: 12951\n"
     ]
    }
   ],
   "source": [
    "print(\"Number of unique Job IDs:\", alibaba['job_id'].nunique())"
   ]
  },
  {
   "cell_type": "code",
   "execution_count": 71,
   "metadata": {},
   "outputs": [
    {
     "name": "stdout",
     "output_type": "stream",
     "text": [
      "<bound method NDFrame.head of         JobID  RunTime\n",
      "0     11662.0      1.0\n",
      "1     11330.0    145.0\n",
      "2      9524.0    842.0\n",
      "3      8664.0      2.0\n",
      "4      7950.0    578.0\n",
      "...       ...      ...\n",
      "9995   1827.0     66.0\n",
      "9996    759.0     94.0\n",
      "9997    239.0     80.0\n",
      "9998      NaN      0.0\n",
      "9999    120.0   4211.0\n",
      "\n",
      "[10000 rows x 2 columns]>\n"
     ]
    }
   ],
   "source": [
    "alibabaNew = pd.DataFrame(columns = ['JobID', 'RunTime'])\n",
    "for i in alibaba['job_id'].unique()[0:10000]:\n",
    "    alibabaNew.loc[-1] = [i, alibaba[alibaba['job_id'] == i].shape[0]]\n",
    "    alibabaNew.index = alibabaNew.index + 1\n",
    "    alibabaNew = alibabaNew.sort_index()\n",
    "    \n",
    "print(alibabaNew.head)"
   ]
  },
  {
   "cell_type": "code",
   "execution_count": 72,
   "metadata": {},
   "outputs": [
    {
     "name": "stdout",
     "output_type": "stream",
     "text": [
      "<bound method NDFrame.head of         JobID  RunTime\n",
      "0     11662.0      1.0\n",
      "1     11330.0    145.0\n",
      "2      9524.0    842.0\n",
      "3      8664.0      2.0\n",
      "4      7950.0    578.0\n",
      "...       ...      ...\n",
      "9994   3923.0    566.0\n",
      "9995   1827.0     66.0\n",
      "9996    759.0     94.0\n",
      "9997    239.0     80.0\n",
      "9999    120.0   4211.0\n",
      "\n",
      "[9999 rows x 2 columns]>\n"
     ]
    },
    {
     "data": {
      "text/plain": [
       "array([[<AxesSubplot:title={'center':'RunTime'}>]], dtype=object)"
      ]
     },
     "execution_count": 72,
     "metadata": {},
     "output_type": "execute_result"
    },
    {
     "data": {
      "image/png": "[encoded data removed]",
      "text/plain": [
       "<Figure size 640x480 with 1 Axes>"
      ]
     },
     "metadata": {},
     "output_type": "display_data"
    }
   ],
   "source": [
    "alibabaNew = alibabaNew.dropna()\n",
    "print(alibabaNew.head)\n",
    "alibabaNew.hist('RunTime')"
   ]
  },
  {
   "cell_type": "code",
   "execution_count": 75,
   "metadata": {},
   "outputs": [
    {
     "data": {
      "text/plain": [
       "array([[<AxesSubplot:title={'center':'RunTime'}>]], dtype=object)"
      ]
     },
     "execution_count": 75,
     "metadata": {},
     "output_type": "execute_result"
    },
    {
     "data": {
      "image/png": "[encoded data removed]",
      "text/plain": [
       "<Figure size 640x480 with 1 Axes>"
      ]
     },
     "metadata": {},
     "output_type": "display_data"
    }
   ],
   "source": [
    "alibabanew = alibabaNew[alibabaNew['RunTime'] < 2000]\n",
    "alibabanew.hist('RunTime')"
   ]
  },
  {
   "cell_type": "markdown",
   "metadata": {
    "colab_type": "text",
    "id": "gm-gaRS-jwZj"
   },
   "source": [
    "# Zenodo Trace"
   ]
  },
  {
   "cell_type": "code",
   "execution_count": 1,
   "metadata": {
    "colab_type": "text",
    "id": "qz9m4P5hj2bv"
   },
   "outputs": [],
   "source": [
    "import h5py"
   ]
  },
  {
   "cell_type": "code",
   "execution_count": 8,
   "metadata": {},
   "outputs": [
    {
     "name": "stdout",
     "output_type": "stream",
     "text": [
      "Keys: <KeysViewHDF5 ['stage']>\n",
      "<class 'h5py._hl.group.Group'>\n"
     ]
    }
   ],
   "source": [
    "filename = \"zenodo-trace/traces-2016.h5\"\n",
    "\n",
    "with h5py.File(filename, \"r\") as f:\n",
    "    print(\"Keys: %s\" % f.keys())\n",
    "    a_group_key = list(f.keys())[0]\n",
    "    print(type(f[a_group_key])) \n",
    "    data = list(f[a_group_key])\n",
    "    # If a_group_key is a dataset name, \n",
    "    # this gets the dataset values and returns as a list\n",
    "    data = list(f[a_group_key])\n",
    "    # preferred methods to get dataset values:\n",
    "    ds_obj = f[a_group_key]      # returns as a h5py dataset object\n",
    "    #ds_arr = f[a_group_key][()]  # returns as a numpy array"
   ]
  },
  {
   "cell_type": "code",
   "execution_count": 14,
   "metadata": {},
   "outputs": [
    {
     "name": "stdout",
     "output_type": "stream",
     "text": [
      "['axis0', 'axis1', 'block0_items', 'block0_values', 'block1_items', 'block1_values', 'block2_items', 'block2_values', 'block3_items', 'block3_values']\n"
     ]
    }
   ],
   "source": [
    "#Checkout what keys are inside that group.\n",
    "print(data)\n",
    "#for key in a_group_key.keys():\n",
    "#    print(key)"
   ]
  },
  {
   "cell_type": "code",
   "execution_count": 19,
   "metadata": {},
   "outputs": [
    {
     "ename": "AttributeError",
     "evalue": "'list' object has no attribute 'keys'",
     "output_type": "error",
     "traceback": [
      "\u001b[0;31m---------------------------------------------------------------------------\u001b[0m",
      "\u001b[0;31mAttributeError\u001b[0m                            Traceback (most recent call last)",
      "\u001b[0;32m/var/folders/qd/8g6x79n52nlfjy48yd_8mr5w0000gn/T/ipykernel_59749/1657571253.py\u001b[0m in \u001b[0;36m<module>\u001b[0;34m\u001b[0m\n\u001b[0;32m----> 1\u001b[0;31m \u001b[0;32mfor\u001b[0m \u001b[0mkey\u001b[0m \u001b[0;32min\u001b[0m \u001b[0mdata\u001b[0m\u001b[0;34m.\u001b[0m\u001b[0mkeys\u001b[0m\u001b[0;34m(\u001b[0m\u001b[0;34m)\u001b[0m\u001b[0;34m:\u001b[0m\u001b[0;34m\u001b[0m\u001b[0;34m\u001b[0m\u001b[0m\n\u001b[0m\u001b[1;32m      2\u001b[0m     \u001b[0mprint\u001b[0m\u001b[0;34m(\u001b[0m\u001b[0mkey\u001b[0m\u001b[0;34m)\u001b[0m\u001b[0;34m\u001b[0m\u001b[0;34m\u001b[0m\u001b[0m\n",
      "\u001b[0;31mAttributeError\u001b[0m: 'list' object has no attribute 'keys'"
     ]
    }
   ],
   "source": [
    "for key in data.keys():\n",
    "    print(key)"
   ]
  },
  {
   "cell_type": "code",
   "execution_count": 22,
   "metadata": {},
   "outputs": [
    {
     "name": "stdout",
     "output_type": "stream",
     "text": [
      "['stage', 'stage/axis0', 'stage/axis1', 'stage/block0_items', 'stage/block0_values', 'stage/block1_items', 'stage/block1_values', 'stage/block2_items', 'stage/block2_values', 'stage/block3_items', 'stage/block3_values']\n"
     ]
    }
   ],
   "source": [
    "keys = []\n",
    "with h5py.File(filename, 'r') as f: # open file\n",
    "    f.visit(keys.append)\n",
    "print(keys)"
   ]
  },
  {
   "cell_type": "code",
   "execution_count": null,
   "metadata": {},
   "outputs": [],
   "source": []
  }
 ],
 "metadata": {
  "colab": {
   "authorship_tag": "ABX9TyN3LZGXsYYQ/HRBwFP0rm4Q",
   "collapsed_sections": [],
   "include_colab_link": true,
   "name": "clusterdata_analysis_colab.ipynb",
   "provenance": []
  },
  "kernelspec": {
   "display_name": "Python 3 (ipykernel)",
   "language": "python",
   "name": "python3"
  },
  "language_info": {
   "codemirror_mode": {
    "name": "ipython",
    "version": 3
   },
   "file_extension": ".py",
   "mimetype": "text/x-python",
   "name": "python",
   "nbconvert_exporter": "python",
   "pygments_lexer": "ipython3",
   "version": "3.9.13"
  }
 },
 "nbformat": 4,
 "nbformat_minor": 1
}
